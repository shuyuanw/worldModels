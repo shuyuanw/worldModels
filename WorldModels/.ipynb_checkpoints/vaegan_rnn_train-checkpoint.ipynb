{
 "cells": [
  {
   "cell_type": "code",
   "execution_count": 2,
   "id": "c1f0de6c",
   "metadata": {},
   "outputs": [],
   "source": [
    "import numpy as np\n",
    "import os\n",
    "import json\n",
    "import tensorflow as tf\n",
    "import random\n",
    "import time\n",
    "\n",
    "from vaegan_rnn import MDNRNN, sample_vae\n",
    "from utils import PARSER"
   ]
  },
  {
   "cell_type": "code",
   "execution_count": 3,
   "id": "1b425a5f",
   "metadata": {},
   "outputs": [],
   "source": [
    "gpu_devices = tf.config.experimental.list_physical_devices('GPU')\n",
    "for gpu in gpu_devices:\n",
    "    tf.config.experimental.set_memory_growth(gpu, True)\n",
    "np.set_printoptions(precision=4, edgeitems=6, linewidth=100, suppress=True)"
   ]
  },
  {
   "cell_type": "code",
   "execution_count": 4,
   "id": "75e2b4e0",
   "metadata": {},
   "outputs": [],
   "source": [
    "DATA_DIR = \"results/WorldModels/CarRacing-v0/vaegan_series\"\n",
    "model_save_path = \"results/WorldModels/CarRacing-v0/vaegan_rnn\""
   ]
  },
  {
   "cell_type": "code",
   "execution_count": 6,
   "id": "a40aa532",
   "metadata": {},
   "outputs": [],
   "source": [
    "if not os.path.exists(model_save_path):\n",
    "  os.makedirs(model_save_path)\n",
    "#with open(model_save_path + '/args.json', 'w') as f:\n",
    "#    json.dump(args.__dict__, f, indent=2)\n",
    "raw_data = np.load(os.path.join(DATA_DIR, \"series.npz\"))"
   ]
  },
  {
   "cell_type": "code",
   "execution_count": 7,
   "id": "1688c09c",
   "metadata": {},
   "outputs": [],
   "source": [
    "data_mu = raw_data[\"mu\"]\n",
    "data_logvar = raw_data[\"logvar\"]\n",
    "data_action =  raw_data[\"action\"]\n",
    "data_r = raw_data[\"reward\"]\n",
    "data_d = raw_data[\"done\"]\n",
    "data_N = raw_data[\"N\"]\n",
    "N_data = len(data_mu) # should be 10k"
   ]
  },
  {
   "cell_type": "code",
   "execution_count": 8,
   "id": "e7fc0454",
   "metadata": {},
   "outputs": [
    {
     "name": "stdout",
     "output_type": "stream",
     "text": [
      "640\n"
     ]
    }
   ],
   "source": [
    "print(N_data)"
   ]
  },
  {
   "cell_type": "code",
   "execution_count": 9,
   "id": "d0d35944",
   "metadata": {},
   "outputs": [],
   "source": [
    "def ds_gen():\n",
    "  for _ in range(4000):\n",
    "    indices = np.random.permutation(N_data)[0:5]\n",
    "    # suboptimal b/c we are always only taking first set of steps\n",
    "    mu = data_mu[indices][:, :1000] \n",
    "    logvar = data_logvar[indices][:, :1000]\n",
    "    action = data_action[indices][:, :1000]\n",
    "    z = sample_vae(mu, logvar)\n",
    "    r = tf.cast(data_r[indices], tf.float16)[:, :1000]\n",
    "    d = tf.cast(data_d[indices], tf.float16)[:, :1000]\n",
    "    N = tf.cast(data_N[indices], tf.float16)[:, :1000]\n",
    "    yield z, action, r, d, N"
   ]
  },
  {
   "cell_type": "code",
   "execution_count": 10,
   "id": "64b72b1d",
   "metadata": {},
   "outputs": [],
   "source": [
    "dataset = tf.data.Dataset.from_generator(ds_gen, output_types=(tf.float16, tf.float16, tf.float16, tf.float16, tf.float16), \\\n",
    "    output_shapes=((5, 1000, 512), \\\n",
    "    (5, 1000, 3), \\\n",
    "    (5, 1000, 1), \\\n",
    "    (5, 1000, 1), \\\n",
    "    (5, 1000, 1)))\n",
    "dataset = dataset.prefetch(10)\n",
    "tensorboard_dir = os.path.join(model_save_path, 'tensorboard')\n",
    "summary_writer = tf.summary.create_file_writer(tensorboard_dir)\n",
    "summary_writer.set_as_default()\n",
    "tensorboard_callback = tf.keras.callbacks.TensorBoard(log_dir=tensorboard_dir, write_graph=False)"
   ]
  },
  {
   "cell_type": "code",
   "execution_count": 11,
   "id": "ff66162e",
   "metadata": {},
   "outputs": [],
   "source": [
    "rnn = MDNRNN()\n",
    "rnn.compile(optimizer=rnn.optimizer, loss=rnn.get_loss())\n",
    "tensorboard_callback.set_model(rnn)"
   ]
  },
  {
   "cell_type": "code",
   "execution_count": null,
   "id": "0d57f381",
   "metadata": {},
   "outputs": [],
   "source": [
    "# train loop:\n",
    "start = time.time()\n",
    "step = 0\n",
    "for raw_z, raw_a, raw_r, raw_d, raw_N in dataset:\n",
    "    curr_learning_rate = (0.001-0.00001) * (1.0) ** step + 0.00001\n",
    "    rnn.optimizer.learning_rate = curr_learning_rate\n",
    "    \n",
    "    inputs = tf.concat([raw_z, raw_a], axis=2)\n",
    "\n",
    "    if step == 0:\n",
    "        rnn._set_inputs(inputs)\n",
    "\n",
    "    dummy_zero = tf.zeros([raw_z.shape[0], 1, raw_z.shape[2]], dtype=tf.float16)\n",
    "    z_targ = tf.concat([raw_z[:, 1:, :], dummy_zero], axis=1) # zero pad the end but we don't actually use it\n",
    "    z_mask = 1.0 - raw_d\n",
    "    z_targ = tf.concat([z_targ, z_mask], axis=2) # use a signal to not pass grad\n",
    "\n",
    "    outputs = {'MDN': z_targ}\n",
    "    '''\n",
    "    if args.rnn_r_pred == 1:\n",
    "        r_mask = tf.concat([tf.ones([5, 1, 1], dtype=tf.float16), 1.0 - raw_d[:, :-1, :]], axis=1)\n",
    "        r_targ = tf.concat([raw_r, r_mask], axis=2)\n",
    "        outputs['r'] = r_targ\n",
    "    if args.rnn_d_pred == 1:\n",
    "        d_mask = tf.concat([tf.ones([5, 1, 1], dtype=tf.float16), 1.0 - raw_d[:, :-1, :]], axis=1)\n",
    "        d_targ = tf.concat([raw_d, d_mask], axis=2)\n",
    "        outputs['d'] = d_targ\n",
    "    '''\n",
    "    loss = rnn.train_on_batch(x=inputs, y=outputs, return_dict=True)\n",
    "    [tf.summary.scalar(loss_key, loss_val, step=step) for loss_key, loss_val in loss.items()]\n",
    "\n",
    "    if (step%20==0 and step > 0):\n",
    "        end = time.time()\n",
    "        time_taken = end-start\n",
    "        start = time.time()\n",
    "        output_log = \"step: %d, train_time_taken: %.4f, lr: %.6f\" % (step, time_taken, curr_learning_rate)\n",
    "        for loss_key, loss_val in loss.items():\n",
    "            output_log += ', {}: {:.4f}'.format(loss_key, loss_val)\n",
    "        print(output_log)\n",
    "    if (step%1000==0 and step > 0):\n",
    "        tf.keras.models.save_model(rnn, model_save_path, include_optimizer=True, save_format='tf')\n",
    "    step += 1"
   ]
  }
 ],
 "metadata": {
  "kernelspec": {
   "display_name": "Python 3",
   "language": "python",
   "name": "python3"
  },
  "language_info": {
   "codemirror_mode": {
    "name": "ipython",
    "version": 3
   },
   "file_extension": ".py",
   "mimetype": "text/x-python",
   "name": "python",
   "nbconvert_exporter": "python",
   "pygments_lexer": "ipython3",
   "version": "3.6.9"
  }
 },
 "nbformat": 4,
 "nbformat_minor": 5
}
