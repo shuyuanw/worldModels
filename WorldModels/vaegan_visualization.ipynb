{
 "cells": [
  {
   "cell_type": "code",
   "execution_count": 6,
   "id": "829ea7e7",
   "metadata": {},
   "outputs": [],
   "source": [
    "import tensorflow.keras as keras\n",
    "import os\n",
    "import random\n",
    "import numpy as np\n",
    "import matplotlib.pyplot as plt\n",
    "import tensorflow as tf\n",
    "import datetime\n",
    "import sys\n",
    "from vaegan import encoder, generator\n",
    "import matplotlib.pyplot as plt"
   ]
  },
  {
   "cell_type": "code",
   "execution_count": 7,
   "id": "2e727b13",
   "metadata": {},
   "outputs": [],
   "source": [
    "DATA_DIR = \"results/WorldModels/CarRacing-v0/record\"\n",
    "model_path_name = \"results/WorldModels/CarRacing-v0/tf_vaegan\""
   ]
  },
  {
   "cell_type": "code",
   "execution_count": 8,
   "id": "aa647e1a",
   "metadata": {},
   "outputs": [],
   "source": [
    "filelist = os.listdir(DATA_DIR)"
   ]
  },
  {
   "cell_type": "code",
   "execution_count": 9,
   "id": "391cfae6",
   "metadata": {},
   "outputs": [],
   "source": [
    "obs = np.load(os.path.join(DATA_DIR, random.choice(filelist)))[\"obs\"]\n",
    "obs = obs.astype(np.float32)/255.0"
   ]
  },
  {
   "cell_type": "code",
   "execution_count": 10,
   "id": "a497e9d5",
   "metadata": {},
   "outputs": [
    {
     "data": {
      "text/plain": [
       "(1000, 64, 64, 3)"
      ]
     },
     "execution_count": 10,
     "metadata": {},
     "output_type": "execute_result"
    }
   ],
   "source": [
    "obs.shape"
   ]
  },
  {
   "cell_type": "code",
   "execution_count": 11,
   "id": "ace35b90",
   "metadata": {},
   "outputs": [],
   "source": [
    "frame = random.choice(obs).reshape(1, 64, 64, 3)"
   ]
  },
  {
   "cell_type": "code",
   "execution_count": 12,
   "id": "c08977e4",
   "metadata": {},
   "outputs": [],
   "source": [
    "lr = 0.0001\n",
    "E_opt = keras.optimizers.Adam(lr=lr)\n",
    "G_opt = keras.optimizers.Adam(lr=lr)"
   ]
  },
  {
   "cell_type": "code",
   "execution_count": 13,
   "id": "40d85ba5",
   "metadata": {},
   "outputs": [],
   "source": [
    "G = generator()\n",
    "E = encoder()\n",
    "G.compile(optimizer=G_opt)\n",
    "E.compile(optimizer=E_opt)"
   ]
  },
  {
   "cell_type": "code",
   "execution_count": 14,
   "id": "d7a699f7",
   "metadata": {},
   "outputs": [],
   "source": [
    "G.load_weights('results/WorldModels/CarRacing-v0/tf_vaegan/generator.h5')\n",
    "E.load_weights('results/WorldModels/CarRacing-v0/tf_vaegan/encoder.h5')"
   ]
  },
  {
   "cell_type": "code",
   "execution_count": 15,
   "id": "dc3dfc4f",
   "metadata": {},
   "outputs": [
    {
     "data": {
      "image/png": "[encoded data removed]",
      "text/plain": [
       "<Figure size 432x288 with 1 Axes>"
      ]
     },
     "metadata": {
      "needs_background": "light"
     },
     "output_type": "display_data"
    }
   ],
   "source": [
    "%matplotlib inline\n",
    "# show recorded frame that will be fed into the input of VAE\n",
    "plt.imshow(frame[0])\n",
    "plt.show()"
   ]
  },
  {
   "cell_type": "code",
   "execution_count": 17,
   "id": "9468ad69",
   "metadata": {},
   "outputs": [
    {
     "name": "stdout",
     "output_type": "stream",
     "text": [
      "[[ 0.1777181  -0.48575    -1.5264856  -0.01201603 -1.2273484  -0.11585271\n",
      "  -0.37090886  1.4186027   1.483276   -1.3934227   0.19245327 -1.4801747\n",
      "   0.16028516 -0.28162166  0.04765373 -1.4053273  -0.73732144 -1.0847768\n",
      "   1.4723728   0.2765319   0.35787067 -0.00439805 -0.6394185  -1.463403\n",
      "   0.7024689   0.9025291  -0.18556096 -1.4688601  -1.9304366   0.42894068\n",
      "   0.6375674  -0.73411167]]\n"
     ]
    }
   ],
   "source": [
    "batch_z = E.predict(frame)\n",
    "print(batch_z[0])\n",
    "reconstruct = G.predict(batch_z[0])"
   ]
  },
  {
   "cell_type": "code",
   "execution_count": 18,
   "id": "0d7de9ef",
   "metadata": {},
   "outputs": [
    {
     "data": {
      "image/png": "[encoded data removed]",
      "text/plain": [
       "<Figure size 432x288 with 1 Axes>"
      ]
     },
     "metadata": {
      "needs_background": "light"
     },
     "output_type": "display_data"
    }
   ],
   "source": [
    "%matplotlib inline\n",
    "# show reconstruction\n",
    "plt.imshow(reconstruct[0])\n",
    "plt.show()"
   ]
  },
  {
   "cell_type": "code",
   "execution_count": null,
   "id": "6931d1a5",
   "metadata": {},
   "outputs": [],
   "source": []
  }
 ],
 "metadata": {
  "kernelspec": {
   "display_name": "Python 3",
   "language": "python",
   "name": "python3"
  },
  "language_info": {
   "codemirror_mode": {
    "name": "ipython",
    "version": 3
   },
   "file_extension": ".py",
   "mimetype": "text/x-python",
   "name": "python",
   "nbconvert_exporter": "python",
   "pygments_lexer": "ipython3",
   "version": "3.6.9"
  }
 },
 "nbformat": 4,
 "nbformat_minor": 5
}
