{
 "cells": [
  {
   "cell_type": "code",
   "execution_count": 1,
   "id": "8fcedbca",
   "metadata": {},
   "outputs": [],
   "source": [
    "import numpy as np\n",
    "import os\n",
    "import json\n",
    "import tensorflow as tf\n",
    "import random\n",
    "from vaegan import encoder, generator\n",
    "from utils import PARSER\n",
    "import tensorflow.keras as keras"
   ]
  },
  {
   "cell_type": "code",
   "execution_count": 2,
   "id": "6c8a68aa",
   "metadata": {},
   "outputs": [],
   "source": [
    "gpu_devices = tf.config.experimental.list_physical_devices('GPU')\n",
    "for gpu in gpu_devices:\n",
    "    tf.config.experimental.set_memory_growth(gpu, True)"
   ]
  },
  {
   "cell_type": "code",
   "execution_count": 3,
   "id": "6c358c89",
   "metadata": {},
   "outputs": [],
   "source": [
    "DATA_DIR = \"results/WorldModels/CarRacing-v0/record\"\n",
    "SERIES_DIR = \"results/WorldModels/CarRacing-v0/vaegan_series\"\n",
    "model_path_name = \"results/{WorldModels/CarRacing-v0/tf_vaegan\""
   ]
  },
  {
   "cell_type": "code",
   "execution_count": 4,
   "id": "58074fd6",
   "metadata": {},
   "outputs": [],
   "source": [
    "def ds_gen():\n",
    "    filenames = os.listdir(DATA_DIR)[:10000] # only use first 10k episodes\n",
    "    n = len(filenames)\n",
    "    for j, fname in enumerate(filenames):\n",
    "        if not fname.endswith('npz'): \n",
    "            continue\n",
    "        file_path = os.path.join(DATA_DIR, fname)\n",
    "\n",
    "        data = np.load(file_path)\n",
    "        img = data['obs']\n",
    "        action = np.reshape(data['action'], newshape=[-1, 3])\n",
    "        reward = data['reward']\n",
    "        done = data['done']\n",
    "        N = data['N']\n",
    "        \n",
    "        n_pad = 1000 - img.shape[0] # pad so they are all a thousand step long episodes\n",
    "        img = tf.pad(img, [[0, n_pad], [0, 0], [0, 0], [0, 0]])\n",
    "        action = tf.pad(action, [[0, n_pad], [0, 0]])\n",
    "        reward = tf.pad(reward, [[0, n_pad]])\n",
    "        done = tf.pad(done, [[0, n_pad]], constant_values=done[-1])\n",
    "        N = tf.pad(N, [[0, n_pad]], constant_values=N[-1])\n",
    "        yield img, action, reward, done, N"
   ]
  },
  {
   "cell_type": "code",
   "execution_count": 5,
   "id": "6eb5ded7",
   "metadata": {},
   "outputs": [],
   "source": [
    "def create_tf_dataset():\n",
    "    dataset = tf.data.Dataset.from_generator(ds_gen, output_types=(tf.float32, tf.float32, tf.float32, tf.bool, tf.uint16), output_shapes=((1000, 64, 64, 3), (1000, 3), (1000,), (1000,), (1000,)))\n",
    "    return dataset"
   ]
  },
  {
   "cell_type": "code",
   "execution_count": 6,
   "id": "54002c26",
   "metadata": {},
   "outputs": [],
   "source": [
    "lr = 0.0001\n",
    "E_opt = keras.optimizers.Adam(lr=lr)\n",
    "G_opt = keras.optimizers.Adam(lr=lr)\n",
    "G = generator()\n",
    "E = encoder()\n",
    "#G.compile(optimizer=G_opt)\n",
    "#E.compile(optimizer=E_opt)\n",
    "G.load_weights('results/WorldModels/CarRacing-v0/tf_vaegan/generator.h5')\n",
    "E.load_weights('results/WorldModels/CarRacing-v0/tf_vaegan/encoder.h5')"
   ]
  },
  {
   "cell_type": "code",
   "execution_count": 7,
   "id": "9dddb878",
   "metadata": {},
   "outputs": [],
   "source": [
    "#@tf.function\n",
    "def encode_batch(batch_img):\n",
    "  simple_obs = batch_img/255.0\n",
    "  new_pred = E.predict(simple_obs)\n",
    "  return new_pred[2], new_pred[3]"
   ]
  },
  {
   "cell_type": "code",
   "execution_count": 8,
   "id": "fe9ba427",
   "metadata": {},
   "outputs": [],
   "source": [
    "def decode_batch(batch_z):\n",
    "  # decode the latent vector\n",
    "  batch_img = G.predict(z.reshape(batch_size, z_size)) * 255.\n",
    "  batch_img = np.round(batch_img).astype(np.uint8)\n",
    "  batch_img = batch_img.reshape(batch_size, 64, 64, 3)\n",
    "  return batch_img"
   ]
  },
  {
   "cell_type": "code",
   "execution_count": 9,
   "id": "cfba28fc",
   "metadata": {},
   "outputs": [],
   "source": [
    "filelist = os.listdir(DATA_DIR)\n",
    "filelist.sort()\n",
    "filelist = filelist[0:10000]\n",
    "dataset = create_tf_dataset()\n",
    "dataset = dataset.batch(1, drop_remainder=True)"
   ]
  },
  {
   "cell_type": "code",
   "execution_count": 10,
   "id": "c4ad873a",
   "metadata": {},
   "outputs": [],
   "source": [
    "mu_dataset = []\n",
    "logvar_dataset = []\n",
    "action_dataset = []\n",
    "r_dataset = []\n",
    "d_dataset = []\n",
    "N_dataset = []"
   ]
  },
  {
   "cell_type": "code",
   "execution_count": 11,
   "id": "fca64fa3",
   "metadata": {},
   "outputs": [
    {
     "name": "stdout",
     "output_type": "stream",
     "text": [
      "100\n",
      "200\n",
      "300\n",
      "400\n",
      "500\n",
      "600\n"
     ]
    }
   ],
   "source": [
    "i=0\n",
    "for batch in dataset:\n",
    "  i += 1\n",
    "  obs_batch, action_batch, r, d, N = batch\n",
    "  obs_batch = tf.squeeze(obs_batch, axis=0)\n",
    "  action_batch = tf.squeeze(action_batch, axis=0)\n",
    "  r = tf.reshape(r, [-1, 1])\n",
    "  d = tf.reshape(d, [-1, 1])\n",
    "  N = tf.reshape(N, [-1, 1])\n",
    "\n",
    "  mu, logvar = encode_batch(obs_batch)\n",
    "\n",
    "  mu_dataset.append(mu.astype(np.float16))\n",
    "  logvar_dataset.append(logvar.astype(np.float16))\n",
    "  action_dataset.append(action_batch.numpy())\n",
    "  r_dataset.append(r.numpy().astype(np.float16))\n",
    "  d_dataset.append(d.numpy().astype(np.bool))\n",
    "  N_dataset.append(N.numpy().astype(np.uint16))\n",
    "\n",
    "  if ((i+1) % 100 == 0):\n",
    "    print(i+1)"
   ]
  },
  {
   "cell_type": "code",
   "execution_count": null,
   "id": "9029fe44",
   "metadata": {},
   "outputs": [],
   "source": [
    "action_dataset = np.array(action_dataset)\n",
    "mu_dataset = np.array(mu_dataset)\n",
    "logvar_dataset = np.array(logvar_dataset)\n",
    "r_dataset = np.array(r_dataset)\n",
    "d_dataset = np.array(d_dataset)\n",
    "N_dataset = np.array(N_dataset)\n",
    "\n",
    "np.savez_compressed(os.path.join(SERIES_DIR, \"series.npz\"), action=action_dataset, mu=mu_dataset, logvar=logvar_dataset, reward=r_dataset, done=d_dataset, N=N_dataset)"
   ]
  },
  {
   "cell_type": "code",
   "execution_count": null,
   "id": "e9c4c66e",
   "metadata": {},
   "outputs": [],
   "source": []
  }
 ],
 "metadata": {
  "kernelspec": {
   "display_name": "Python 3",
   "language": "python",
   "name": "python3"
  },
  "language_info": {
   "codemirror_mode": {
    "name": "ipython",
    "version": 3
   },
   "file_extension": ".py",
   "mimetype": "text/x-python",
   "name": "python",
   "nbconvert_exporter": "python",
   "pygments_lexer": "ipython3",
   "version": "3.6.9"
  }
 },
 "nbformat": 4,
 "nbformat_minor": 5
}
